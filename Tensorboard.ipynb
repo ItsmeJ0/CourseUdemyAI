{
  "cells": [
    {
      "cell_type": "markdown",
      "metadata": {
        "id": "view-in-github",
        "colab_type": "text"
      },
      "source": [
        "<a href=\"https://colab.research.google.com/github/ItsmeJ0/CourseUdemyAI/blob/main/Tensorboard.ipynb\" target=\"_parent\"><img src=\"https://colab.research.google.com/assets/colab-badge.svg\" alt=\"Open In Colab\"/></a>"
      ]
    },
    {
      "cell_type": "code",
      "execution_count": null,
      "metadata": {
        "id": "B1I_dvaqRhPO"
      },
      "outputs": [],
      "source": [
        "import pandas as pd\n",
        "import numpy as np"
      ]
    },
    {
      "cell_type": "code",
      "execution_count": null,
      "metadata": {
        "id": "J2jCU0tJRhPO"
      },
      "outputs": [],
      "source": [
        "df = pd.read_csv('cancer_classification.csv')"
      ]
    },
    {
      "cell_type": "markdown",
      "metadata": {
        "id": "Sp4Q4RraRhPO"
      },
      "source": [
        "### Train Test Split"
      ]
    },
    {
      "cell_type": "code",
      "execution_count": null,
      "metadata": {
        "id": "v9hmj7IYRhPO"
      },
      "outputs": [],
      "source": [
        "X = df.drop('benign_0__mal_1',axis=1).values\n",
        "y = df['benign_0__mal_1'].values"
      ]
    },
    {
      "cell_type": "code",
      "execution_count": null,
      "metadata": {
        "id": "zcDJhwjtRhPP"
      },
      "outputs": [],
      "source": [
        "from sklearn.model_selection import train_test_split"
      ]
    },
    {
      "cell_type": "code",
      "execution_count": null,
      "metadata": {
        "id": "AQbubDk-RhPP"
      },
      "outputs": [],
      "source": [
        "X_train, X_test, y_train, y_test = train_test_split(X,y,test_size=0.25,random_state=101)"
      ]
    },
    {
      "cell_type": "markdown",
      "metadata": {
        "id": "aW2oTdTwRhPP"
      },
      "source": [
        "\n",
        "### Scaling Data"
      ]
    },
    {
      "cell_type": "code",
      "execution_count": null,
      "metadata": {
        "id": "4yv8ygnPRhPP"
      },
      "outputs": [],
      "source": [
        "from sklearn.preprocessing import MinMaxScaler"
      ]
    },
    {
      "cell_type": "code",
      "execution_count": null,
      "metadata": {
        "id": "skpBRqNGRhPP"
      },
      "outputs": [],
      "source": [
        "scaler = MinMaxScaler()"
      ]
    },
    {
      "cell_type": "code",
      "execution_count": null,
      "metadata": {
        "colab": {
          "base_uri": "https://localhost:8080/",
          "height": 75
        },
        "id": "LkmWuXLIRhPP",
        "outputId": "a568b9ca-c40f-42cc-e82c-30f3d25b55a9"
      },
      "outputs": [
        {
          "output_type": "execute_result",
          "data": {
            "text/plain": [
              "MinMaxScaler()"
            ],
            "text/html": [
              "<style>#sk-container-id-1 {color: black;background-color: white;}#sk-container-id-1 pre{padding: 0;}#sk-container-id-1 div.sk-toggleable {background-color: white;}#sk-container-id-1 label.sk-toggleable__label {cursor: pointer;display: block;width: 100%;margin-bottom: 0;padding: 0.3em;box-sizing: border-box;text-align: center;}#sk-container-id-1 label.sk-toggleable__label-arrow:before {content: \"▸\";float: left;margin-right: 0.25em;color: #696969;}#sk-container-id-1 label.sk-toggleable__label-arrow:hover:before {color: black;}#sk-container-id-1 div.sk-estimator:hover label.sk-toggleable__label-arrow:before {color: black;}#sk-container-id-1 div.sk-toggleable__content {max-height: 0;max-width: 0;overflow: hidden;text-align: left;background-color: #f0f8ff;}#sk-container-id-1 div.sk-toggleable__content pre {margin: 0.2em;color: black;border-radius: 0.25em;background-color: #f0f8ff;}#sk-container-id-1 input.sk-toggleable__control:checked~div.sk-toggleable__content {max-height: 200px;max-width: 100%;overflow: auto;}#sk-container-id-1 input.sk-toggleable__control:checked~label.sk-toggleable__label-arrow:before {content: \"▾\";}#sk-container-id-1 div.sk-estimator input.sk-toggleable__control:checked~label.sk-toggleable__label {background-color: #d4ebff;}#sk-container-id-1 div.sk-label input.sk-toggleable__control:checked~label.sk-toggleable__label {background-color: #d4ebff;}#sk-container-id-1 input.sk-hidden--visually {border: 0;clip: rect(1px 1px 1px 1px);clip: rect(1px, 1px, 1px, 1px);height: 1px;margin: -1px;overflow: hidden;padding: 0;position: absolute;width: 1px;}#sk-container-id-1 div.sk-estimator {font-family: monospace;background-color: #f0f8ff;border: 1px dotted black;border-radius: 0.25em;box-sizing: border-box;margin-bottom: 0.5em;}#sk-container-id-1 div.sk-estimator:hover {background-color: #d4ebff;}#sk-container-id-1 div.sk-parallel-item::after {content: \"\";width: 100%;border-bottom: 1px solid gray;flex-grow: 1;}#sk-container-id-1 div.sk-label:hover label.sk-toggleable__label {background-color: #d4ebff;}#sk-container-id-1 div.sk-serial::before {content: \"\";position: absolute;border-left: 1px solid gray;box-sizing: border-box;top: 0;bottom: 0;left: 50%;z-index: 0;}#sk-container-id-1 div.sk-serial {display: flex;flex-direction: column;align-items: center;background-color: white;padding-right: 0.2em;padding-left: 0.2em;position: relative;}#sk-container-id-1 div.sk-item {position: relative;z-index: 1;}#sk-container-id-1 div.sk-parallel {display: flex;align-items: stretch;justify-content: center;background-color: white;position: relative;}#sk-container-id-1 div.sk-item::before, #sk-container-id-1 div.sk-parallel-item::before {content: \"\";position: absolute;border-left: 1px solid gray;box-sizing: border-box;top: 0;bottom: 0;left: 50%;z-index: -1;}#sk-container-id-1 div.sk-parallel-item {display: flex;flex-direction: column;z-index: 1;position: relative;background-color: white;}#sk-container-id-1 div.sk-parallel-item:first-child::after {align-self: flex-end;width: 50%;}#sk-container-id-1 div.sk-parallel-item:last-child::after {align-self: flex-start;width: 50%;}#sk-container-id-1 div.sk-parallel-item:only-child::after {width: 0;}#sk-container-id-1 div.sk-dashed-wrapped {border: 1px dashed gray;margin: 0 0.4em 0.5em 0.4em;box-sizing: border-box;padding-bottom: 0.4em;background-color: white;}#sk-container-id-1 div.sk-label label {font-family: monospace;font-weight: bold;display: inline-block;line-height: 1.2em;}#sk-container-id-1 div.sk-label-container {text-align: center;}#sk-container-id-1 div.sk-container {/* jupyter's `normalize.less` sets `[hidden] { display: none; }` but bootstrap.min.css set `[hidden] { display: none !important; }` so we also need the `!important` here to be able to override the default hidden behavior on the sphinx rendered scikit-learn.org. See: https://github.com/scikit-learn/scikit-learn/issues/21755 */display: inline-block !important;position: relative;}#sk-container-id-1 div.sk-text-repr-fallback {display: none;}</style><div id=\"sk-container-id-1\" class=\"sk-top-container\"><div class=\"sk-text-repr-fallback\"><pre>MinMaxScaler()</pre><b>In a Jupyter environment, please rerun this cell to show the HTML representation or trust the notebook. <br />On GitHub, the HTML representation is unable to render, please try loading this page with nbviewer.org.</b></div><div class=\"sk-container\" hidden><div class=\"sk-item\"><div class=\"sk-estimator sk-toggleable\"><input class=\"sk-toggleable__control sk-hidden--visually\" id=\"sk-estimator-id-1\" type=\"checkbox\" checked><label for=\"sk-estimator-id-1\" class=\"sk-toggleable__label sk-toggleable__label-arrow\">MinMaxScaler</label><div class=\"sk-toggleable__content\"><pre>MinMaxScaler()</pre></div></div></div></div></div>"
            ]
          },
          "metadata": {},
          "execution_count": 8
        }
      ],
      "source": [
        "scaler.fit(X_train)"
      ]
    },
    {
      "cell_type": "code",
      "execution_count": null,
      "metadata": {
        "id": "PCuxPcTSRhPQ"
      },
      "outputs": [],
      "source": [
        "X_train = scaler.transform(X_train)\n",
        "X_test = scaler.transform(X_test)"
      ]
    },
    {
      "cell_type": "markdown",
      "metadata": {
        "id": "xSqiSkZaRhPQ"
      },
      "source": [
        "## Creating the Model"
      ]
    },
    {
      "cell_type": "code",
      "execution_count": null,
      "metadata": {
        "id": "QOqG3D8GRhPQ"
      },
      "outputs": [],
      "source": [
        "import tensorflow as tf\n",
        "from tensorflow.keras.models import Sequential\n",
        "from tensorflow.keras.layers import Dense, Activation,Dropout"
      ]
    },
    {
      "cell_type": "code",
      "execution_count": null,
      "metadata": {
        "id": "FzXFgiB-RhPQ"
      },
      "outputs": [],
      "source": [
        "from tensorflow.keras.callbacks import EarlyStopping,TensorBoard"
      ]
    },
    {
      "cell_type": "code",
      "execution_count": null,
      "metadata": {
        "id": "gS6_yX8RRhPQ"
      },
      "outputs": [],
      "source": [
        "early_stop = EarlyStopping(monitor='val_loss', mode='min', verbose=1, patience=25)"
      ]
    },
    {
      "cell_type": "code",
      "execution_count": null,
      "metadata": {
        "colab": {
          "base_uri": "https://localhost:8080/",
          "height": 36
        },
        "id": "n0kxeu7MRhPQ",
        "outputId": "87f0a66f-2650-44a3-cb9a-e172e69f01f3"
      },
      "outputs": [
        {
          "output_type": "execute_result",
          "data": {
            "text/plain": [
              "'/content'"
            ],
            "application/vnd.google.colaboratory.intrinsic+json": {
              "type": "string"
            }
          },
          "metadata": {},
          "execution_count": 13
        }
      ],
      "source": [
        "pwd"
      ]
    },
    {
      "cell_type": "markdown",
      "metadata": {
        "id": "VGwiGVmTRhPQ"
      },
      "source": [
        "## Creating the Tensorboard Callback\n",
        "\n",
        "TensorBoard is a visualization tool provided with TensorFlow.\n",
        "\n",
        "This callback logs events for TensorBoard, including:\n",
        "* Metrics summary plots\n",
        "* Training graph visualization\n",
        "* Activation histograms\n",
        "* Sampled profiling\n",
        "\n",
        "If you have installed TensorFlow with pip, you should be able\n",
        "to launch TensorBoard from the command line:\n",
        "\n",
        "```sh\n",
        "tensorboard --logdir=path_to_your_logs\n",
        "```\n",
        "\n",
        "You can find more information about TensorBoard\n",
        "[here](https://www.tensorflow.org/tensorboard/).\n",
        "\n",
        "    Arguments:\n",
        "        log_dir: the path of the directory where to save the log files to be\n",
        "          parsed by TensorBoard.\n",
        "        histogram_freq: frequency (in epochs) at which to compute activation and\n",
        "          weight histograms for the layers of the model. If set to 0, histograms\n",
        "          won't be computed. Validation data (or split) must be specified for\n",
        "          histogram visualizations.\n",
        "        write_graph: whether to visualize the graph in TensorBoard. The log file\n",
        "          can become quite large when write_graph is set to True.\n",
        "        write_images: whether to write model weights to visualize as image in\n",
        "          TensorBoard.\n",
        "        update_freq: `'batch'` or `'epoch'` or integer. When using `'batch'`,\n",
        "          writes the losses and metrics to TensorBoard after each batch. The same\n",
        "          applies for `'epoch'`. If using an integer, let's say `1000`, the\n",
        "          callback will write the metrics and losses to TensorBoard every 1000\n",
        "          samples. Note that writing too frequently to TensorBoard can slow down\n",
        "          your training.\n",
        "        profile_batch: Profile the batch to sample compute characteristics. By\n",
        "          default, it will profile the second batch. Set profile_batch=0 to\n",
        "          disable profiling. Must run in TensorFlow eager mode.\n",
        "        embeddings_freq: frequency (in epochs) at which embedding layers will\n",
        "          be visualized. If set to 0, embeddings won't be visualized.\n",
        "       "
      ]
    },
    {
      "cell_type": "code",
      "execution_count": null,
      "metadata": {
        "id": "Aw8eQatxRhPQ"
      },
      "outputs": [],
      "source": [
        "from datetime import datetime"
      ]
    },
    {
      "cell_type": "code",
      "execution_count": null,
      "metadata": {
        "colab": {
          "base_uri": "https://localhost:8080/",
          "height": 36
        },
        "id": "D9h65pnTRhPR",
        "outputId": "e9fc3246-1c22-4f3c-ae25-66fd6d1cd63f"
      },
      "outputs": [
        {
          "output_type": "execute_result",
          "data": {
            "text/plain": [
              "'2023-10-21--0808'"
            ],
            "application/vnd.google.colaboratory.intrinsic+json": {
              "type": "string"
            }
          },
          "metadata": {},
          "execution_count": 15
        }
      ],
      "source": [
        "datetime.now().strftime(\"%Y-%m-%d--%H%M\")"
      ]
    },
    {
      "cell_type": "code",
      "execution_count": null,
      "metadata": {
        "id": "zIKunx6sRhPR"
      },
      "outputs": [],
      "source": [
        "# WINDOWS: Use \"logs\\\\fit\"\n",
        "# MACOS/LINUX: Use \"logs\\fit\"\n",
        "\n",
        "log_directory = 'logs\\\\fit'\n",
        "\n",
        "# OPTIONAL: ADD A TIMESTAMP FOR UNIQUE FOLDER\n",
        "# timestamp = datetime.now().strftime(\"%Y-%m-%d--%H%M\")\n",
        "# log_directory = log_directory + '\\\\' + timestamp\n",
        "\n",
        "\n",
        "board = TensorBoard(log_dir=log_directory,histogram_freq=1,\n",
        "    write_graph=True,\n",
        "    write_images=True,\n",
        "    update_freq='epoch',\n",
        "    profile_batch=2,\n",
        "    embeddings_freq=1)"
      ]
    },
    {
      "cell_type": "markdown",
      "metadata": {
        "id": "7iqifyLDRhPR"
      },
      "source": [
        "Now create the model layers:"
      ]
    },
    {
      "cell_type": "code",
      "execution_count": null,
      "metadata": {
        "id": "f-X0Uoj1RhPR"
      },
      "outputs": [],
      "source": [
        "model = Sequential()\n",
        "model.add(Dense(units=30,activation='relu'))\n",
        "model.add(Dropout(0.5))\n",
        "model.add(Dense(units=15,activation='relu'))\n",
        "model.add(Dropout(0.5))\n",
        "model.add(Dense(units=1,activation='sigmoid'))\n",
        "model.compile(loss='binary_crossentropy', optimizer='adam')"
      ]
    },
    {
      "cell_type": "markdown",
      "metadata": {
        "id": "zsLC1V-VRhPR"
      },
      "source": [
        "## Train the Model"
      ]
    },
    {
      "cell_type": "code",
      "execution_count": null,
      "metadata": {
        "colab": {
          "base_uri": "https://localhost:8080/"
        },
        "id": "7ZXhTsguRhPR",
        "outputId": "31fc9315-fc41-49ae-f52e-151f99c1f663"
      },
      "outputs": [
        {
          "output_type": "stream",
          "name": "stdout",
          "text": [
            "Epoch 1/600\n",
            "14/14 [==============================] - 2s 62ms/step - loss: 0.6917 - val_loss: 0.6697\n",
            "Epoch 2/600\n",
            "14/14 [==============================] - 0s 13ms/step - loss: 0.6668 - val_loss: 0.6473\n",
            "Epoch 3/600\n",
            "14/14 [==============================] - 0s 14ms/step - loss: 0.6471 - val_loss: 0.6227\n",
            "Epoch 4/600\n",
            "14/14 [==============================] - 0s 13ms/step - loss: 0.6177 - val_loss: 0.5946\n",
            "Epoch 5/600\n",
            "14/14 [==============================] - 0s 13ms/step - loss: 0.5932 - val_loss: 0.5703\n",
            "Epoch 6/600\n",
            "14/14 [==============================] - 0s 11ms/step - loss: 0.5774 - val_loss: 0.5416\n",
            "Epoch 7/600\n",
            "14/14 [==============================] - 0s 11ms/step - loss: 0.5540 - val_loss: 0.5134\n",
            "Epoch 8/600\n",
            "14/14 [==============================] - 0s 12ms/step - loss: 0.5288 - val_loss: 0.4886\n",
            "Epoch 9/600\n",
            "14/14 [==============================] - 0s 11ms/step - loss: 0.5287 - val_loss: 0.4584\n",
            "Epoch 10/600\n",
            "14/14 [==============================] - 0s 11ms/step - loss: 0.4706 - val_loss: 0.4246\n",
            "Epoch 11/600\n",
            "14/14 [==============================] - 0s 10ms/step - loss: 0.4844 - val_loss: 0.3992\n",
            "Epoch 12/600\n",
            "14/14 [==============================] - 0s 11ms/step - loss: 0.4683 - val_loss: 0.3823\n",
            "Epoch 13/600\n",
            "14/14 [==============================] - 0s 11ms/step - loss: 0.3991 - val_loss: 0.3525\n",
            "Epoch 14/600\n",
            "14/14 [==============================] - 0s 11ms/step - loss: 0.4159 - val_loss: 0.3289\n",
            "Epoch 15/600\n",
            "14/14 [==============================] - 0s 12ms/step - loss: 0.3968 - val_loss: 0.3124\n",
            "Epoch 16/600\n",
            "14/14 [==============================] - 0s 12ms/step - loss: 0.4069 - val_loss: 0.2918\n",
            "Epoch 17/600\n",
            "14/14 [==============================] - 0s 10ms/step - loss: 0.3719 - val_loss: 0.2766\n",
            "Epoch 18/600\n",
            "14/14 [==============================] - 0s 11ms/step - loss: 0.3455 - val_loss: 0.2584\n",
            "Epoch 19/600\n",
            "14/14 [==============================] - 0s 12ms/step - loss: 0.3374 - val_loss: 0.2494\n",
            "Epoch 20/600\n",
            "14/14 [==============================] - 0s 11ms/step - loss: 0.3177 - val_loss: 0.2350\n",
            "Epoch 21/600\n",
            "14/14 [==============================] - 0s 11ms/step - loss: 0.3182 - val_loss: 0.2294\n",
            "Epoch 22/600\n",
            "14/14 [==============================] - 0s 13ms/step - loss: 0.3200 - val_loss: 0.2173\n",
            "Epoch 23/600\n",
            "14/14 [==============================] - 0s 11ms/step - loss: 0.2934 - val_loss: 0.2079\n",
            "Epoch 24/600\n",
            "14/14 [==============================] - 0s 11ms/step - loss: 0.3226 - val_loss: 0.2050\n",
            "Epoch 25/600\n",
            "14/14 [==============================] - 0s 13ms/step - loss: 0.2896 - val_loss: 0.1999\n",
            "Epoch 26/600\n",
            "14/14 [==============================] - 0s 13ms/step - loss: 0.2758 - val_loss: 0.1879\n",
            "Epoch 27/600\n",
            "14/14 [==============================] - 0s 13ms/step - loss: 0.2689 - val_loss: 0.1854\n",
            "Epoch 28/600\n",
            "14/14 [==============================] - 0s 13ms/step - loss: 0.2785 - val_loss: 0.1802\n",
            "Epoch 29/600\n",
            "14/14 [==============================] - 0s 12ms/step - loss: 0.2622 - val_loss: 0.1727\n",
            "Epoch 30/600\n",
            "14/14 [==============================] - 0s 14ms/step - loss: 0.2450 - val_loss: 0.1687\n",
            "Epoch 31/600\n",
            "14/14 [==============================] - 0s 12ms/step - loss: 0.2555 - val_loss: 0.1762\n",
            "Epoch 32/600\n",
            "14/14 [==============================] - 0s 13ms/step - loss: 0.2345 - val_loss: 0.1578\n",
            "Epoch 33/600\n",
            "14/14 [==============================] - 0s 13ms/step - loss: 0.2267 - val_loss: 0.1612\n",
            "Epoch 34/600\n",
            "14/14 [==============================] - 0s 14ms/step - loss: 0.2350 - val_loss: 0.1593\n",
            "Epoch 35/600\n",
            "14/14 [==============================] - 0s 18ms/step - loss: 0.2176 - val_loss: 0.1500\n",
            "Epoch 36/600\n",
            "14/14 [==============================] - 0s 19ms/step - loss: 0.2312 - val_loss: 0.1515\n",
            "Epoch 37/600\n",
            "14/14 [==============================] - 0s 18ms/step - loss: 0.2054 - val_loss: 0.1526\n",
            "Epoch 38/600\n",
            "14/14 [==============================] - 0s 20ms/step - loss: 0.2099 - val_loss: 0.1478\n",
            "Epoch 39/600\n",
            "14/14 [==============================] - 0s 18ms/step - loss: 0.2089 - val_loss: 0.1446\n",
            "Epoch 40/600\n",
            "14/14 [==============================] - 0s 16ms/step - loss: 0.2142 - val_loss: 0.1433\n",
            "Epoch 41/600\n",
            "14/14 [==============================] - 0s 16ms/step - loss: 0.1972 - val_loss: 0.1489\n",
            "Epoch 42/600\n",
            "14/14 [==============================] - 0s 16ms/step - loss: 0.2150 - val_loss: 0.1410\n",
            "Epoch 43/600\n",
            "14/14 [==============================] - 0s 16ms/step - loss: 0.1938 - val_loss: 0.1441\n",
            "Epoch 44/600\n",
            "14/14 [==============================] - 0s 19ms/step - loss: 0.1922 - val_loss: 0.1353\n",
            "Epoch 45/600\n",
            "14/14 [==============================] - 0s 18ms/step - loss: 0.1916 - val_loss: 0.1325\n",
            "Epoch 46/600\n",
            "14/14 [==============================] - 0s 12ms/step - loss: 0.1796 - val_loss: 0.1346\n",
            "Epoch 47/600\n",
            "14/14 [==============================] - 0s 13ms/step - loss: 0.1721 - val_loss: 0.1302\n",
            "Epoch 48/600\n",
            "14/14 [==============================] - 0s 13ms/step - loss: 0.1625 - val_loss: 0.1319\n",
            "Epoch 49/600\n",
            "14/14 [==============================] - 0s 13ms/step - loss: 0.1681 - val_loss: 0.1349\n",
            "Epoch 50/600\n",
            "14/14 [==============================] - 0s 13ms/step - loss: 0.1694 - val_loss: 0.1301\n",
            "Epoch 51/600\n",
            "14/14 [==============================] - 0s 12ms/step - loss: 0.1392 - val_loss: 0.1343\n",
            "Epoch 52/600\n",
            "14/14 [==============================] - 0s 11ms/step - loss: 0.1451 - val_loss: 0.1326\n",
            "Epoch 53/600\n",
            "14/14 [==============================] - 0s 12ms/step - loss: 0.1504 - val_loss: 0.1258\n",
            "Epoch 54/600\n",
            "14/14 [==============================] - 0s 12ms/step - loss: 0.1497 - val_loss: 0.1263\n",
            "Epoch 55/600\n",
            "14/14 [==============================] - 0s 11ms/step - loss: 0.1710 - val_loss: 0.1354\n",
            "Epoch 56/600\n",
            "14/14 [==============================] - 0s 13ms/step - loss: 0.1327 - val_loss: 0.1257\n",
            "Epoch 57/600\n",
            "14/14 [==============================] - 0s 13ms/step - loss: 0.1471 - val_loss: 0.1424\n",
            "Epoch 58/600\n",
            "14/14 [==============================] - 0s 12ms/step - loss: 0.1436 - val_loss: 0.1294\n",
            "Epoch 59/600\n",
            "14/14 [==============================] - 0s 13ms/step - loss: 0.1419 - val_loss: 0.1297\n",
            "Epoch 60/600\n",
            "14/14 [==============================] - 0s 13ms/step - loss: 0.1315 - val_loss: 0.1262\n",
            "Epoch 61/600\n",
            "14/14 [==============================] - 0s 13ms/step - loss: 0.1346 - val_loss: 0.1317\n",
            "Epoch 62/600\n",
            "14/14 [==============================] - 0s 13ms/step - loss: 0.1294 - val_loss: 0.1234\n",
            "Epoch 63/600\n",
            "14/14 [==============================] - 0s 13ms/step - loss: 0.1321 - val_loss: 0.1263\n",
            "Epoch 64/600\n",
            "14/14 [==============================] - 0s 13ms/step - loss: 0.1309 - val_loss: 0.1460\n",
            "Epoch 65/600\n",
            "14/14 [==============================] - 0s 14ms/step - loss: 0.1362 - val_loss: 0.1263\n",
            "Epoch 66/600\n",
            "14/14 [==============================] - 0s 13ms/step - loss: 0.1186 - val_loss: 0.1300\n",
            "Epoch 67/600\n",
            "14/14 [==============================] - 0s 13ms/step - loss: 0.1329 - val_loss: 0.1283\n",
            "Epoch 68/600\n",
            "14/14 [==============================] - 0s 14ms/step - loss: 0.1054 - val_loss: 0.1293\n",
            "Epoch 69/600\n",
            "14/14 [==============================] - 0s 12ms/step - loss: 0.1235 - val_loss: 0.1320\n",
            "Epoch 70/600\n",
            "14/14 [==============================] - 0s 15ms/step - loss: 0.1378 - val_loss: 0.1340\n",
            "Epoch 71/600\n",
            "14/14 [==============================] - 0s 13ms/step - loss: 0.1279 - val_loss: 0.1480\n",
            "Epoch 72/600\n",
            "14/14 [==============================] - 0s 13ms/step - loss: 0.1339 - val_loss: 0.1291\n",
            "Epoch 73/600\n",
            "14/14 [==============================] - 0s 12ms/step - loss: 0.1133 - val_loss: 0.1288\n",
            "Epoch 74/600\n",
            "14/14 [==============================] - 0s 16ms/step - loss: 0.1353 - val_loss: 0.1481\n",
            "Epoch 75/600\n",
            "14/14 [==============================] - 0s 14ms/step - loss: 0.1152 - val_loss: 0.1270\n",
            "Epoch 76/600\n",
            "14/14 [==============================] - 0s 15ms/step - loss: 0.1313 - val_loss: 0.1303\n",
            "Epoch 77/600\n",
            "14/14 [==============================] - 0s 13ms/step - loss: 0.1135 - val_loss: 0.1481\n",
            "Epoch 78/600\n",
            "14/14 [==============================] - 0s 12ms/step - loss: 0.1131 - val_loss: 0.1279\n",
            "Epoch 79/600\n",
            "14/14 [==============================] - 0s 12ms/step - loss: 0.1207 - val_loss: 0.1295\n",
            "Epoch 80/600\n",
            "14/14 [==============================] - 0s 32ms/step - loss: 0.1042 - val_loss: 0.1254\n",
            "Epoch 81/600\n",
            "14/14 [==============================] - 0s 30ms/step - loss: 0.0972 - val_loss: 0.1254\n",
            "Epoch 82/600\n",
            "14/14 [==============================] - 0s 14ms/step - loss: 0.1008 - val_loss: 0.1386\n",
            "Epoch 83/600\n",
            "14/14 [==============================] - 0s 12ms/step - loss: 0.1077 - val_loss: 0.1303\n",
            "Epoch 84/600\n",
            "14/14 [==============================] - 0s 13ms/step - loss: 0.1018 - val_loss: 0.1268\n",
            "Epoch 85/600\n",
            "14/14 [==============================] - 0s 13ms/step - loss: 0.1176 - val_loss: 0.1289\n",
            "Epoch 86/600\n",
            "14/14 [==============================] - 0s 12ms/step - loss: 0.1008 - val_loss: 0.1346\n",
            "Epoch 87/600\n",
            "14/14 [==============================] - 0s 10ms/step - loss: 0.1135 - val_loss: 0.1370\n",
            "Epoch 87: early stopping\n"
          ]
        },
        {
          "output_type": "execute_result",
          "data": {
            "text/plain": [
              "<keras.src.callbacks.History at 0x784d190c6230>"
            ]
          },
          "metadata": {},
          "execution_count": 18
        }
      ],
      "source": [
        "model.fit(x=X_train,\n",
        "          y=y_train,\n",
        "          epochs=600,\n",
        "          validation_data=(X_test, y_test), verbose=1,\n",
        "          callbacks=[early_stop,board]\n",
        "          )"
      ]
    },
    {
      "cell_type": "markdown",
      "metadata": {
        "id": "yZXJuHbQRhPR"
      },
      "source": [
        "# Running Tensorboard\n"
      ]
    },
    {
      "cell_type": "markdown",
      "metadata": {
        "id": "0WLAgznFRhPR"
      },
      "source": [
        "## Running through the Command Line\n",
        "\n",
        "**Watch video to see how to run Tensorboard through a command line call.**"
      ]
    },
    {
      "cell_type": "markdown",
      "metadata": {
        "id": "SilHHEJARhPR"
      },
      "source": [
        "Tensorboard will run locally in your browser at [http://localhost:6006/](http://localhost:6006/)\n"
      ]
    },
    {
      "cell_type": "code",
      "execution_count": null,
      "metadata": {
        "colab": {
          "base_uri": "https://localhost:8080/"
        },
        "id": "7qrfylxORhPR",
        "outputId": "0239a284-9075-499d-e905-499cbf2d82e0"
      },
      "outputs": [
        {
          "output_type": "stream",
          "name": "stdout",
          "text": [
            "logs\\fit\n"
          ]
        }
      ],
      "source": [
        "print(log_directory)"
      ]
    },
    {
      "cell_type": "code",
      "execution_count": null,
      "metadata": {
        "colab": {
          "base_uri": "https://localhost:8080/",
          "height": 36
        },
        "id": "yTGKPgoHRhPR",
        "outputId": "ef69555a-d464-4793-ae4e-cfc86ee886f2"
      },
      "outputs": [
        {
          "output_type": "execute_result",
          "data": {
            "text/plain": [
              "'/content'"
            ],
            "application/vnd.google.colaboratory.intrinsic+json": {
              "type": "string"
            }
          },
          "metadata": {},
          "execution_count": 20
        }
      ],
      "source": [
        "pwd"
      ]
    },
    {
      "cell_type": "markdown",
      "metadata": {
        "id": "QqTgFX18RhPR"
      },
      "source": [
        "### Use cd at your command line to change directory to the file path reported back by pwd or your current .py file location.\n",
        "### Then run this code at your command line or terminal"
      ]
    },
    {
      "cell_type": "code",
      "source": [
        "pip install tensorflow tensorboard\n"
      ],
      "metadata": {
        "colab": {
          "base_uri": "https://localhost:8080/"
        },
        "id": "zerKoR3VR8Rq",
        "outputId": "d697644f-7cad-41a3-b873-e3ceee4f3381"
      },
      "execution_count": null,
      "outputs": [
        {
          "output_type": "stream",
          "name": "stdout",
          "text": [
            "Requirement already satisfied: tensorflow in /usr/local/lib/python3.10/dist-packages (2.13.0)\n",
            "Requirement already satisfied: tensorboard in /usr/local/lib/python3.10/dist-packages (2.13.0)\n",
            "Requirement already satisfied: absl-py>=1.0.0 in /usr/local/lib/python3.10/dist-packages (from tensorflow) (1.4.0)\n",
            "Requirement already satisfied: astunparse>=1.6.0 in /usr/local/lib/python3.10/dist-packages (from tensorflow) (1.6.3)\n",
            "Requirement already satisfied: flatbuffers>=23.1.21 in /usr/local/lib/python3.10/dist-packages (from tensorflow) (23.5.26)\n",
            "Requirement already satisfied: gast<=0.4.0,>=0.2.1 in /usr/local/lib/python3.10/dist-packages (from tensorflow) (0.4.0)\n",
            "Requirement already satisfied: google-pasta>=0.1.1 in /usr/local/lib/python3.10/dist-packages (from tensorflow) (0.2.0)\n",
            "Requirement already satisfied: grpcio<2.0,>=1.24.3 in /usr/local/lib/python3.10/dist-packages (from tensorflow) (1.59.0)\n",
            "Requirement already satisfied: h5py>=2.9.0 in /usr/local/lib/python3.10/dist-packages (from tensorflow) (3.9.0)\n",
            "Requirement already satisfied: keras<2.14,>=2.13.1 in /usr/local/lib/python3.10/dist-packages (from tensorflow) (2.13.1)\n",
            "Requirement already satisfied: libclang>=13.0.0 in /usr/local/lib/python3.10/dist-packages (from tensorflow) (16.0.6)\n",
            "Requirement already satisfied: numpy<=1.24.3,>=1.22 in /usr/local/lib/python3.10/dist-packages (from tensorflow) (1.23.5)\n",
            "Requirement already satisfied: opt-einsum>=2.3.2 in /usr/local/lib/python3.10/dist-packages (from tensorflow) (3.3.0)\n",
            "Requirement already satisfied: packaging in /usr/local/lib/python3.10/dist-packages (from tensorflow) (23.2)\n",
            "Requirement already satisfied: protobuf!=4.21.0,!=4.21.1,!=4.21.2,!=4.21.3,!=4.21.4,!=4.21.5,<5.0.0dev,>=3.20.3 in /usr/local/lib/python3.10/dist-packages (from tensorflow) (3.20.3)\n",
            "Requirement already satisfied: setuptools in /usr/local/lib/python3.10/dist-packages (from tensorflow) (67.7.2)\n",
            "Requirement already satisfied: six>=1.12.0 in /usr/local/lib/python3.10/dist-packages (from tensorflow) (1.16.0)\n",
            "Requirement already satisfied: tensorflow-estimator<2.14,>=2.13.0 in /usr/local/lib/python3.10/dist-packages (from tensorflow) (2.13.0)\n",
            "Requirement already satisfied: termcolor>=1.1.0 in /usr/local/lib/python3.10/dist-packages (from tensorflow) (2.3.0)\n",
            "Requirement already satisfied: typing-extensions<4.6.0,>=3.6.6 in /usr/local/lib/python3.10/dist-packages (from tensorflow) (4.5.0)\n",
            "Requirement already satisfied: wrapt>=1.11.0 in /usr/local/lib/python3.10/dist-packages (from tensorflow) (1.15.0)\n",
            "Requirement already satisfied: tensorflow-io-gcs-filesystem>=0.23.1 in /usr/local/lib/python3.10/dist-packages (from tensorflow) (0.34.0)\n",
            "Requirement already satisfied: google-auth<3,>=1.6.3 in /usr/local/lib/python3.10/dist-packages (from tensorboard) (2.17.3)\n",
            "Requirement already satisfied: google-auth-oauthlib<1.1,>=0.5 in /usr/local/lib/python3.10/dist-packages (from tensorboard) (1.0.0)\n",
            "Requirement already satisfied: markdown>=2.6.8 in /usr/local/lib/python3.10/dist-packages (from tensorboard) (3.5)\n",
            "Requirement already satisfied: requests<3,>=2.21.0 in /usr/local/lib/python3.10/dist-packages (from tensorboard) (2.31.0)\n",
            "Requirement already satisfied: tensorboard-data-server<0.8.0,>=0.7.0 in /usr/local/lib/python3.10/dist-packages (from tensorboard) (0.7.1)\n",
            "Requirement already satisfied: werkzeug>=1.0.1 in /usr/local/lib/python3.10/dist-packages (from tensorboard) (3.0.0)\n",
            "Requirement already satisfied: wheel>=0.26 in /usr/local/lib/python3.10/dist-packages (from tensorboard) (0.41.2)\n",
            "Requirement already satisfied: cachetools<6.0,>=2.0.0 in /usr/local/lib/python3.10/dist-packages (from google-auth<3,>=1.6.3->tensorboard) (5.3.1)\n",
            "Requirement already satisfied: pyasn1-modules>=0.2.1 in /usr/local/lib/python3.10/dist-packages (from google-auth<3,>=1.6.3->tensorboard) (0.3.0)\n",
            "Requirement already satisfied: rsa<5,>=3.1.4 in /usr/local/lib/python3.10/dist-packages (from google-auth<3,>=1.6.3->tensorboard) (4.9)\n",
            "Requirement already satisfied: requests-oauthlib>=0.7.0 in /usr/local/lib/python3.10/dist-packages (from google-auth-oauthlib<1.1,>=0.5->tensorboard) (1.3.1)\n",
            "Requirement already satisfied: charset-normalizer<4,>=2 in /usr/local/lib/python3.10/dist-packages (from requests<3,>=2.21.0->tensorboard) (3.3.0)\n",
            "Requirement already satisfied: idna<4,>=2.5 in /usr/local/lib/python3.10/dist-packages (from requests<3,>=2.21.0->tensorboard) (3.4)\n",
            "Requirement already satisfied: urllib3<3,>=1.21.1 in /usr/local/lib/python3.10/dist-packages (from requests<3,>=2.21.0->tensorboard) (2.0.7)\n",
            "Requirement already satisfied: certifi>=2017.4.17 in /usr/local/lib/python3.10/dist-packages (from requests<3,>=2.21.0->tensorboard) (2023.7.22)\n",
            "Requirement already satisfied: MarkupSafe>=2.1.1 in /usr/local/lib/python3.10/dist-packages (from werkzeug>=1.0.1->tensorboard) (2.1.3)\n",
            "Requirement already satisfied: pyasn1<0.6.0,>=0.4.6 in /usr/local/lib/python3.10/dist-packages (from pyasn1-modules>=0.2.1->google-auth<3,>=1.6.3->tensorboard) (0.5.0)\n",
            "Requirement already satisfied: oauthlib>=3.0.0 in /usr/local/lib/python3.10/dist-packages (from requests-oauthlib>=0.7.0->google-auth-oauthlib<1.1,>=0.5->tensorboard) (3.2.2)\n"
          ]
        }
      ]
    },
    {
      "cell_type": "code",
      "source": [
        "%load_ext tensorboard\n",
        "import tensorflow as tf\n",
        "import datetime, os"
      ],
      "metadata": {
        "id": "jrF9n8JuSV5Y"
      },
      "execution_count": null,
      "outputs": []
    },
    {
      "cell_type": "code",
      "source": [
        "fashion_mnist = tf.keras.datasets.fashion_mnist\n",
        "\n",
        "(x_train, y_train),(x_test, y_test) = fashion_mnist.load_data()\n",
        "x_train, x_test = x_train / 255.0, x_test / 255.0"
      ],
      "metadata": {
        "colab": {
          "base_uri": "https://localhost:8080/"
        },
        "id": "GlDkixYAk0Pf",
        "outputId": "dc54dab3-8d18-4779-99a9-c7394c8ba476"
      },
      "execution_count": null,
      "outputs": [
        {
          "output_type": "stream",
          "name": "stdout",
          "text": [
            "Downloading data from https://storage.googleapis.com/tensorflow/tf-keras-datasets/train-labels-idx1-ubyte.gz\n",
            "29515/29515 [==============================] - 0s 0us/step\n",
            "Downloading data from https://storage.googleapis.com/tensorflow/tf-keras-datasets/train-images-idx3-ubyte.gz\n",
            "26421880/26421880 [==============================] - 0s 0us/step\n",
            "Downloading data from https://storage.googleapis.com/tensorflow/tf-keras-datasets/t10k-labels-idx1-ubyte.gz\n",
            "5148/5148 [==============================] - 0s 0us/step\n",
            "Downloading data from https://storage.googleapis.com/tensorflow/tf-keras-datasets/t10k-images-idx3-ubyte.gz\n",
            "4422102/4422102 [==============================] - 0s 0us/step\n"
          ]
        }
      ]
    },
    {
      "cell_type": "code",
      "source": [
        "fashion_mnist = tf.keras.datasets.fashion_mnist\n",
        "\n",
        "(x_train, y_train),(x_test, y_test) = fashion_mnist.load_data()\n",
        "x_train, x_test = x_train / 255.0, x_test / 255.0"
      ],
      "metadata": {
        "id": "OqY4bAbmk4Vo"
      },
      "execution_count": null,
      "outputs": []
    },
    {
      "cell_type": "code",
      "source": [
        "def create_model():\n",
        "  return tf.keras.models.Sequential([\n",
        "    tf.keras.layers.Flatten(input_shape=(28, 28), name='layers_flatten'),\n",
        "    tf.keras.layers.Dense(512, activation='relu', name='layers_dense'),\n",
        "    tf.keras.layers.Dropout(0.2, name='layers_dropout'),\n",
        "    tf.keras.layers.Dense(10, activation='softmax', name='layers_dense_2')\n",
        "  ])"
      ],
      "metadata": {
        "id": "EUPj3Ocyk-DH"
      },
      "execution_count": null,
      "outputs": []
    },
    {
      "cell_type": "code",
      "source": [
        "def train_model():\n",
        "\n",
        "  model = create_model()\n",
        "  model.compile(optimizer='adam',\n",
        "                loss='sparse_categorical_crossentropy',\n",
        "                metrics=['accuracy'])\n",
        "\n",
        "  logdir = os.path.join(\"logs\", datetime.datetime.now().strftime(\"%Y%m%d-%H%M%S\"))\n",
        "  tensorboard_callback = tf.keras.callbacks.TensorBoard(logdir, histogram_freq=1)\n",
        "\n",
        "  model.fit(x=x_train,\n",
        "            y=y_train,\n",
        "            epochs=5,\n",
        "            validation_data=(x_test, y_test),\n",
        "            callbacks=[tensorboard_callback])\n",
        "\n",
        "train_model()"
      ],
      "metadata": {
        "colab": {
          "base_uri": "https://localhost:8080/"
        },
        "id": "dzNEovFgk_2e",
        "outputId": "4cf8826a-7be9-4f72-dacb-3d546752188e"
      },
      "execution_count": null,
      "outputs": [
        {
          "output_type": "stream",
          "name": "stdout",
          "text": [
            "Epoch 1/5\n",
            "1875/1875 [==============================] - 20s 10ms/step - loss: 0.4933 - accuracy: 0.8227 - val_loss: 0.4210 - val_accuracy: 0.8441\n",
            "Epoch 2/5\n",
            "1875/1875 [==============================] - 16s 9ms/step - loss: 0.3830 - accuracy: 0.8614 - val_loss: 0.3724 - val_accuracy: 0.8660\n",
            "Epoch 3/5\n",
            "1875/1875 [==============================] - 15s 8ms/step - loss: 0.3484 - accuracy: 0.8709 - val_loss: 0.3818 - val_accuracy: 0.8600\n",
            "Epoch 4/5\n",
            "1875/1875 [==============================] - 16s 9ms/step - loss: 0.3308 - accuracy: 0.8781 - val_loss: 0.3862 - val_accuracy: 0.8631\n",
            "Epoch 5/5\n",
            "1875/1875 [==============================] - 16s 9ms/step - loss: 0.3129 - accuracy: 0.8831 - val_loss: 0.3554 - val_accuracy: 0.8716\n"
          ]
        }
      ]
    },
    {
      "cell_type": "code",
      "execution_count": null,
      "metadata": {
        "colab": {
          "base_uri": "https://localhost:8080/",
          "height": 822
        },
        "id": "DgkFpVIhRhPS",
        "outputId": "67d44567-4f65-42df-cfda-6039f74be695"
      },
      "outputs": [
        {
          "output_type": "display_data",
          "data": {
            "text/plain": [
              "<IPython.core.display.Javascript object>"
            ],
            "application/javascript": [
              "\n",
              "        (async () => {\n",
              "            const url = new URL(await google.colab.kernel.proxyPort(6006, {'cache': true}));\n",
              "            url.searchParams.set('tensorboardColab', 'true');\n",
              "            const iframe = document.createElement('iframe');\n",
              "            iframe.src = url;\n",
              "            iframe.setAttribute('width', '100%');\n",
              "            iframe.setAttribute('height', '800');\n",
              "            iframe.setAttribute('frameborder', 0);\n",
              "            document.body.appendChild(iframe);\n",
              "        })();\n",
              "    "
            ]
          },
          "metadata": {}
        }
      ],
      "source": [
        "%tensorboard --logdir logs"
      ]
    },
    {
      "cell_type": "code",
      "source": [
        "train_model()"
      ],
      "metadata": {
        "id": "ac8KPHgOqUjX"
      },
      "execution_count": null,
      "outputs": []
    },
    {
      "cell_type": "code",
      "source": [
        "from tensorboard import notebook\n",
        "notebook.list() # View open TensorBoard instances"
      ],
      "metadata": {
        "id": "AtX5xU0XqVlz"
      },
      "execution_count": null,
      "outputs": []
    },
    {
      "cell_type": "code",
      "source": [
        "# Control TensorBoard display. If no port is provided,\n",
        "# the most recently launched TensorBoard is used\n",
        "notebook.display(port=6006, height=1000)"
      ],
      "metadata": {
        "id": "idLLMOvOqWch"
      },
      "execution_count": null,
      "outputs": []
    }
  ],
  "metadata": {
    "kernelspec": {
      "display_name": "Python 3",
      "language": "python",
      "name": "python3"
    },
    "language_info": {
      "codemirror_mode": {
        "name": "ipython",
        "version": 3
      },
      "file_extension": ".py",
      "mimetype": "text/x-python",
      "name": "python",
      "nbconvert_exporter": "python",
      "pygments_lexer": "ipython3",
      "version": "3.7.4"
    },
    "colab": {
      "provenance": [],
      "include_colab_link": true
    }
  },
  "nbformat": 4,
  "nbformat_minor": 0
}